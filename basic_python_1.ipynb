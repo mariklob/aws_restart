{
  "cells": [
    {
      "cell_type": "markdown",
      "metadata": {
        "id": "bbMWTuccfaYA"
      },
      "source": [
        "Write a program that inputs two numbers and prints their sum"
      ]
    },
    {
      "cell_type": "code",
      "execution_count": null,
      "metadata": {
        "id": "f8QgtHQVfaYB",
        "outputId": "93df1bd3-9a44-4815-811e-53288bf6a0c5"
      },
      "outputs": [
        {
          "name": "stdout",
          "output_type": "stream",
          "text": [
            "4\n",
            "5\n",
            "9\n"
          ]
        }
      ],
      "source": [
        ""
      ]
    },
    {
      "cell_type": "markdown",
      "metadata": {
        "id": "kVk8Hi9mfaYD"
      },
      "source": [
        "Write a program that greets the person by printing the word \"Hi\" and the name of the person."
      ]
    },
    {
      "cell_type": "code",
      "execution_count": null,
      "metadata": {
        "id": "g4Tt9XC8faYD"
      },
      "outputs": [],
      "source": [
        ""
      ]
    },
    {
      "cell_type": "markdown",
      "metadata": {
        "id": "yMbuq0DLfaYE"
      },
      "source": [
        "Write a program that takes a number and print its square."
      ]
    },
    {
      "cell_type": "code",
      "execution_count": null,
      "metadata": {
        "id": "GJjQUyqtfaYE"
      },
      "outputs": [],
      "source": [
        ""
      ]
    },
    {
      "cell_type": "markdown",
      "metadata": {
        "id": "NPru7oKvfaYE"
      },
      "source": [
        "Write a program that reads the length of the base and the height of a right-angled triangle and prints the area.\n",
        "Every number is given on a separate line.\n"
      ]
    },
    {
      "cell_type": "code",
      "execution_count": null,
      "metadata": {
        "id": "Vc1HQYJefaYF"
      },
      "outputs": [],
      "source": [
        ""
      ]
    },
    {
      "cell_type": "markdown",
      "metadata": {
        "id": "1tJcvXPwfaYG"
      },
      "source": [
        "Write a program that greets the user by printing the word \"Hello\", \n",
        "a comma, the name of the user and an exclamation mark after it.\n"
      ]
    },
    {
      "cell_type": "code",
      "execution_count": null,
      "metadata": {
        "id": "CNBPmpwXfaYG"
      },
      "outputs": [],
      "source": [
        ""
      ]
    },
    {
      "cell_type": "markdown",
      "metadata": {
        "id": "lrG_Hge8faYH"
      },
      "source": [
        "N students take K apples and distribute them among each other evenly.\n",
        "The remaining (the undivisible) part remains in the basket. \n",
        "How many apples will each single student get? How many apples will remain in the basket?"
      ]
    },
    {
      "cell_type": "code",
      "execution_count": null,
      "metadata": {
        "id": "RdiCD3ddfaYH"
      },
      "outputs": [],
      "source": [
        ""
      ]
    },
    {
      "cell_type": "markdown",
      "metadata": {
        "id": "YcZToLsCfaYH"
      },
      "source": [
        "Write a program that reads an integer number and prints its previous and next numbers. See the examples below for the exact format your answers should take. \n",
        "There shouldn't be a space before the period."
      ]
    },
    {
      "cell_type": "code",
      "execution_count": null,
      "metadata": {
        "id": "1Xp94E6RfaYI"
      },
      "outputs": [],
      "source": [
        ""
      ]
    },
    {
      "cell_type": "markdown",
      "metadata": {
        "id": "28kc8J_1faYI"
      },
      "source": [
        "A timestamp is three numbers: a number of hours, minutes and seconds. Given two timestamps, \n",
        "calculate how many seconds is between them. \n",
        "The moment of the first timestamp occurred before the moment of the second timestamp."
      ]
    },
    {
      "cell_type": "code",
      "execution_count": null,
      "metadata": {
        "id": "kHzVtCxAfaYI"
      },
      "outputs": [],
      "source": [
        ""
      ]
    },
    {
      "cell_type": "markdown",
      "metadata": {
        "id": "34kCc5mpfaYI"
      },
      "source": [
        "A school decided to replace the desks in three classrooms. Each desk sits two students.\n",
        "Given the number of students in each class, print the smallest possible number of desks that can be purchased.\n",
        "The program should read three integers: the number of students in each of the three classes, a, b and c respectively."
      ]
    },
    {
      "cell_type": "code",
      "execution_count": null,
      "metadata": {
        "id": "7oCajEl4faYJ"
      },
      "outputs": [],
      "source": [
        ""
      ]
    },
    {
      "cell_type": "markdown",
      "metadata": {
        "id": "eyWtxAk0faYJ"
      },
      "source": [
        "Given an integer number, print its last digit.\n"
      ]
    },
    {
      "cell_type": "code",
      "execution_count": null,
      "metadata": {
        "id": "vmMxeEpQfaYK"
      },
      "outputs": [],
      "source": [
        ""
      ]
    },
    {
      "cell_type": "markdown",
      "metadata": {
        "id": "KkaRJVQzfaYK"
      },
      "source": [
        "Given a three-digit number. Find the sum of its digits. "
      ]
    },
    {
      "cell_type": "code",
      "execution_count": null,
      "metadata": {
        "id": "DVLH_X8ifaYL"
      },
      "outputs": [],
      "source": [
        ""
      ]
    },
    {
      "cell_type": "markdown",
      "metadata": {
        "id": "JK3HJcn2faYL"
      },
      "source": [
        "Given a positive real number, print its fractional part. (as a float)"
      ]
    },
    {
      "cell_type": "code",
      "execution_count": null,
      "metadata": {
        "id": "4lWGILJCfaYL"
      },
      "outputs": [],
      "source": [
        ""
      ]
    },
    {
      "cell_type": "markdown",
      "metadata": {
        "id": "bf2xFFmvfaYM"
      },
      "source": [
        "Given a positive real number, print its first digit to the right of the decimal point."
      ]
    },
    {
      "cell_type": "code",
      "execution_count": null,
      "metadata": {
        "id": "OvkJlNNRfaYM"
      },
      "outputs": [],
      "source": [
        ""
      ]
    },
    {
      "cell_type": "markdown",
      "metadata": {
        "id": "YK0liBFUfaYM"
      },
      "source": [
        "A car can cover distance of N kilometers per day. \n",
        "How many days will it take to cover a route of length M kilometers? The program gets two numbers: N and M."
      ]
    },
    {
      "cell_type": "code",
      "execution_count": null,
      "metadata": {
        "id": "wRqVtZqLfaYN"
      },
      "outputs": [],
      "source": [
        ""
      ]
    },
    {
      "cell_type": "markdown",
      "metadata": {
        "id": "sfCW8Z_2faYN"
      },
      "source": [
        "Given the integer N - the number of minutes that is passed since midnight -\n",
        "how many hours and minutes are displayed on the 24h digital clock?\n",
        "\n",
        "The program should print two numbers: the number of hours (between 0 and 23) and the number of minutes (between 0 and 59).\n",
        "\n",
        "For example, if N = 150, then 150 minutes have passed since midnight - i.e. now is 2:30 am. So the program should print 2 30."
      ]
    },
    {
      "cell_type": "code",
      "execution_count": null,
      "metadata": {
        "id": "JqbYmJ9EfaYO"
      },
      "outputs": [],
      "source": [
        ""
      ]
    },
    {
      "cell_type": "markdown",
      "metadata": {
        "id": "4JPBRPEvfaYO"
      },
      "source": [
        "A cupcake costs A dollars and B cents. Determine, how many dollars and cents should one pay for N cupcakes. \n",
        "A program gets three numbers: A, B, N. It should print two numbers: total cost in dollars and cents."
      ]
    },
    {
      "cell_type": "code",
      "execution_count": null,
      "metadata": {
        "id": "rZhVNkR7faYO"
      },
      "outputs": [],
      "source": [
        ""
      ]
    },
    {
      "cell_type": "markdown",
      "metadata": {
        "id": "pjelCl84faYP"
      },
      "source": [
        "H hours, M minutes and S seconds are passed since the midnight (0 ≤ H < 12, 0 ≤ M < 60, 0 ≤ S < 60).\n",
        "Determine the angle (in degrees) of the hour hand on the clock face right now."
      ]
    },
    {
      "cell_type": "code",
      "execution_count": null,
      "metadata": {
        "id": "0HCa_c0hfaYP"
      },
      "outputs": [],
      "source": [
        ""
      ]
    },
    {
      "cell_type": "code",
      "execution_count": null,
      "metadata": {
        "id": "KwsRtT87faYP"
      },
      "outputs": [],
      "source": [
        "Hour hand turned by α degrees since the midnight. \n",
        "Determine the angle by which minute hand turned since the start of the current hour.\n",
        "Input and output in this problems are floating-point numbers."
      ]
    },
    {
      "cell_type": "code",
      "execution_count": null,
      "metadata": {
        "id": "H65t3DvsfaYQ"
      },
      "outputs": [],
      "source": [
        ""
      ]
    },
    {
      "cell_type": "code",
      "execution_count": null,
      "metadata": {
        "id": "7tdDVOJQfaYQ"
      },
      "outputs": [],
      "source": [
        "You are given a string.\n",
        "In the first line, print the third character of this string.\n",
        "\n",
        "In the second line, print the second to last character of this string.\n",
        "\n",
        "In the third line, print the first five characters of this string.\n",
        "\n",
        "In the fourth line, print all but the last two characters of this string.\n",
        "\n",
        "In the fifth line, print all the characters of this string with even indices (remember indexing starts at 0, so the characters are displayed starting with the first).\n",
        "\n",
        "In the sixth line, print all the characters of this string with odd indices (i.e. starting with the second character in the string).\n",
        "\n",
        "In the seventh line, print all the characters of the string in reverse order.\n",
        "\n",
        "In the eighth line, print every second character of the string in reverse order, starting from the last one.\n",
        "\n",
        "In the ninth line, print the length of the given string."
      ]
    },
    {
      "cell_type": "markdown",
      "metadata": {
        "id": "IDc5Rhi3faYQ"
      },
      "source": [
        "*****************************************************************************************************************************"
      ]
    },
    {
      "cell_type": "markdown",
      "metadata": {
        "id": "_5n5y1hlfaYQ"
      },
      "source": [
        "# *********************************************************************************************"
      ]
    },
    {
      "cell_type": "markdown",
      "metadata": {
        "id": "beqHrUe8faYR"
      },
      "source": [
        "*****************************************************************************************************************************"
      ]
    },
    {
      "cell_type": "markdown",
      "metadata": {
        "id": "hVZ8dnrQfaYR"
      },
      "source": [
        "*****************************************************************************************************************************"
      ]
    },
    {
      "cell_type": "code",
      "execution_count": null,
      "metadata": {
        "id": "iSxj9gWPfaYS"
      },
      "outputs": [],
      "source": [
        ""
      ]
    },
    {
      "cell_type": "markdown",
      "metadata": {
        "id": "oGFtyN8jfaYS"
      },
      "source": [
        "Question 1: Accept two int values from the user and return their product. If the product is greater than 1000, then return their sum"
      ]
    },
    {
      "cell_type": "markdown",
      "metadata": {
        "id": "kFUjSuqOfaYS"
      },
      "source": [
        "Expected Output:\n",
        "\n",
        "Enter first number 10\n",
        "\n",
        "Enter second number 20\n",
        "\n",
        "The result is 200\n"
      ]
    },
    {
      "cell_type": "code",
      "execution_count": null,
      "metadata": {
        "id": "y3Wy7OADfaYS",
        "outputId": "4b94a22b-1e9d-4d88-8e3d-f6c099fdc671"
      },
      "outputs": [
        {
          "name": "stdout",
          "output_type": "stream",
          "text": [
            "Enter first number 10\n",
            "Enter second number20\n",
            "The result is 200\n"
          ]
        }
      ],
      "source": [
        ""
      ]
    },
    {
      "cell_type": "markdown",
      "metadata": {
        "id": "EJpGYpaNfaYS"
      },
      "source": [
        "Question 2: Given a range of numbers. Iterate from o^th number to the end number and print the sum of the current number and previous number"
      ]
    },
    {
      "cell_type": "markdown",
      "metadata": {
        "id": "bHokU1ZffaYS"
      },
      "source": [
        "Expected Output:\n",
        "\n",
        "Printing current and previous number sum in a given range\n",
        "0\n",
        "1\n",
        "3\n",
        "5\n",
        "7\n",
        "9\n",
        "11\n",
        "13\n",
        "15\n",
        "17"
      ]
    },
    {
      "cell_type": "code",
      "execution_count": null,
      "metadata": {
        "id": "Y-rdXHjOfaYT",
        "outputId": "08dc7cb2-55b6-4be6-af4b-7ed592565ff1"
      },
      "outputs": [
        {
          "name": "stdout",
          "output_type": "stream",
          "text": [
            "Printing current and previous number sum in a given range\n",
            "0\n",
            "1\n",
            "3\n",
            "5\n",
            "7\n",
            "9\n",
            "11\n",
            "13\n",
            "15\n",
            "17\n"
          ]
        }
      ],
      "source": [
        ""
      ]
    },
    {
      "cell_type": "markdown",
      "metadata": {
        "id": "ukdctuFffaYT"
      },
      "source": [
        "Question 3: Accept string from the user and display only those characters which are present at an even index"
      ]
    },
    {
      "cell_type": "markdown",
      "metadata": {
        "id": "c97G3-yNfaYT"
      },
      "source": [
        "Expected Output:\n",
        "\n",
        "Enter String  pynative\n",
        "Orginal String is  pynative\n",
        "Printing only even index chars\n",
        "index[ 0 ] p\n",
        "index[ 2 ] n\n",
        "index[ 4 ] t\n",
        "index[ 6 ] v"
      ]
    },
    {
      "cell_type": "code",
      "execution_count": null,
      "metadata": {
        "id": "CIsW92Y-faYT",
        "outputId": "4c3fb20c-0e1f-4092-c703-230ccea2e6c8"
      },
      "outputs": [
        {
          "name": "stdout",
          "output_type": "stream",
          "text": [
            "Enter String pynative\n",
            "Orginal String is  pynative\n",
            "Printing only even index chars\n",
            "index[ 0 ] p\n",
            "index[ 2 ] n\n",
            "index[ 4 ] t\n",
            "index[ 6 ] v\n"
          ]
        }
      ],
      "source": [
        ""
      ]
    },
    {
      "cell_type": "markdown",
      "metadata": {
        "id": "v-DKD7tbfaYT"
      },
      "source": [
        "Question 4: Given a string and an int n, remove characters from string starting from zero up to n and return a new string\n",
        "\n",
        "Note: n must be less than the length of string. For example, removeChars(\"pynative\", 4) so output must be “tive”."
      ]
    },
    {
      "cell_type": "markdown",
      "metadata": {
        "id": "m3CK3agWfaYT"
      },
      "source": [
        "Expected Output:\n",
        "\n",
        "Removing n number of chars\n",
        "tive"
      ]
    },
    {
      "cell_type": "code",
      "execution_count": null,
      "metadata": {
        "id": "rsQT2RySfaYU",
        "outputId": "9870c6cb-731d-4712-b3a2-761686473f5a"
      },
      "outputs": [
        {
          "name": "stdout",
          "output_type": "stream",
          "text": [
            "Removing n number of chars\n",
            "tive\n"
          ]
        }
      ],
      "source": [
        ""
      ]
    },
    {
      "cell_type": "markdown",
      "metadata": {
        "id": "SqyK8pWifaYU"
      },
      "source": [
        "Question 5: Given a list of ints, return True if first and last number of a list is same\n",
        "Expected Output:\n",
        "\n",
        "the first and last number of a list is same\n",
        "result is True"
      ]
    },
    {
      "cell_type": "code",
      "execution_count": null,
      "metadata": {
        "id": "p_59y-MsfaYU",
        "outputId": "d13be8f4-db44-40d9-ac68-333bc8916aeb"
      },
      "outputs": [
        {
          "name": "stdout",
          "output_type": "stream",
          "text": [
            "The first and last number of a list is same\n",
            "result is True\n"
          ]
        }
      ],
      "source": [
        ""
      ]
    },
    {
      "cell_type": "markdown",
      "metadata": {
        "id": "Qi39enjyfaYU"
      },
      "source": [
        "Question 6: Given a list of numbers, Iterate it and print only those numbers which are divisible of 5"
      ]
    },
    {
      "cell_type": "markdown",
      "metadata": {
        "id": "1rag9IhYfaYU"
      },
      "source": [
        "Expected Output:\n",
        "\n",
        "Finding divisible of 5\n",
        "10\n",
        "20\n",
        "55"
      ]
    },
    {
      "cell_type": "code",
      "execution_count": null,
      "metadata": {
        "id": "NN8hotmNfaYU",
        "outputId": "cfdfc23a-540e-4515-a4a6-4c1c36f88fac"
      },
      "outputs": [
        {
          "name": "stdout",
          "output_type": "stream",
          "text": [
            "Finding divisible of 5 in a list\n",
            "10\n",
            "20\n",
            "55\n"
          ]
        }
      ],
      "source": [
        ""
      ]
    },
    {
      "cell_type": "markdown",
      "metadata": {
        "id": "oIPOATBvfaYU"
      },
      "source": [
        "Question 7: Return the number of times that the string “Emma” appears anywhere in the given string\n",
        "Given string is “Emma is a good developer. Emma is also a writer” and output should be 2."
      ]
    },
    {
      "cell_type": "markdown",
      "metadata": {
        "id": "XcnVMgtwfaYU"
      },
      "source": [
        "Expected Output:\n",
        "\n",
        "Emma appeared  2 times"
      ]
    },
    {
      "cell_type": "code",
      "execution_count": null,
      "metadata": {
        "id": "vPQJoGnbfaYV",
        "outputId": "a4fd9262-4b87-40cc-e2f6-08db1c8c9ac1"
      },
      "outputs": [
        {
          "name": "stdout",
          "output_type": "stream",
          "text": [
            "Emma appeared  2 times\n"
          ]
        }
      ],
      "source": [
        ""
      ]
    },
    {
      "cell_type": "markdown",
      "metadata": {
        "id": "cfxRqcWtfaYV"
      },
      "source": [
        "Question 8: Print the following pattern\n",
        "\n",
        "1\n",
        "\n",
        "2 2\n",
        "\n",
        "3 3 3\n",
        "\n",
        "4 4 4 4\n",
        "\n",
        "5 5 5 5 5"
      ]
    },
    {
      "cell_type": "code",
      "execution_count": null,
      "metadata": {
        "id": "_0SVJeZ1faYV",
        "outputId": "a4ea9341-5bb0-47b9-cccb-163369e52eca"
      },
      "outputs": [
        {
          "name": "stdout",
          "output_type": "stream",
          "text": [
            "\n",
            "\n",
            "1 \n",
            "\n",
            "2 2 \n",
            "\n",
            "3 3 3 \n",
            "\n",
            "4 4 4 4 \n",
            "\n",
            "5 5 5 5 5 \n",
            "\n",
            "6 6 6 6 6 6 \n",
            "\n",
            "7 7 7 7 7 7 7 \n",
            "\n",
            "8 8 8 8 8 8 8 8 \n",
            "\n",
            "9 9 9 9 9 9 9 9 9 \n",
            "\n"
          ]
        }
      ],
      "source": [
        ""
      ]
    },
    {
      "cell_type": "markdown",
      "metadata": {
        "id": "Zt_3cT9JfaYV"
      },
      "source": [
        "Question 9: Reverse a given number and return true if it is the same as the original number\n",
        "Expected Output:\n",
        "\n",
        "number = 121\n",
        "Orignal and revers number is equal\n",
        "True"
      ]
    },
    {
      "cell_type": "code",
      "execution_count": null,
      "metadata": {
        "id": "j3v--hIWfaYV",
        "outputId": "2bdedb68-128f-42b8-dff4-fb2fa1107cca"
      },
      "outputs": [
        {
          "name": "stdout",
          "output_type": "stream",
          "text": [
            "orignal and revers number is equal\n",
            "True\n"
          ]
        }
      ],
      "source": [
        ""
      ]
    },
    {
      "cell_type": "markdown",
      "metadata": {
        "id": "Bp9mH1wTfaYV"
      },
      "source": [
        "Question 10: Given a two list of ints create a third list such that should contain only odd numbers from the first list and even numbers from the second list\n",
        "\n",
        "Expected Output:\n",
        "\n",
        "listOne = [10, 20, 23, 11, 17]\n",
        "listTwo = [13, 43, 24, 36, 12]\n",
        "\n",
        "Merged List is\n",
        "[23, 11, 17, 24, 36, 12]"
      ]
    },
    {
      "cell_type": "code",
      "execution_count": null,
      "metadata": {
        "id": "42PTY_3wfaYW",
        "outputId": "7c338f9b-f94a-4151-8491-45990a7e5094"
      },
      "outputs": [
        {
          "name": "stdout",
          "output_type": "stream",
          "text": [
            "Merged List is\n",
            "[23, 11, 17, 24, 36, 12]\n"
          ]
        }
      ],
      "source": [
        ""
      ]
    },
    {
      "cell_type": "code",
      "execution_count": null,
      "metadata": {
        "id": "rHluTIqGfaYW"
      },
      "outputs": [],
      "source": [
        ""
      ]
    }
  ],
  "metadata": {
    "kernelspec": {
      "display_name": "Python 3",
      "language": "python",
      "name": "python3"
    },
    "language_info": {
      "codemirror_mode": {
        "name": "ipython",
        "version": 3
      },
      "file_extension": ".py",
      "mimetype": "text/x-python",
      "name": "python",
      "nbconvert_exporter": "python",
      "pygments_lexer": "ipython3",
      "version": "3.7.4"
    },
    "colab": {
      "name": "basic python 1.ipynb",
      "provenance": []
    }
  },
  "nbformat": 4,
  "nbformat_minor": 0
}